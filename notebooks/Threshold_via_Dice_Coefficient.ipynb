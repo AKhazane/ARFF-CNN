{
 "cells": [
  {
   "cell_type": "code",
   "execution_count": 4,
   "metadata": {},
   "outputs": [],
   "source": [
    "## Load Imports ##\n",
    "import nibabel as nib\n",
    "import numpy as np\n",
    "\n",
    "import os\n",
    "import sys\n",
    "module_path = os.path.abspath(os.path.join('..'))\n",
    "if module_path not in sys.path:\n",
    "    sys.path.append(module_path)\n",
    "    \n",
    "from metrics import dice_coef"
   ]
  },
  {
   "cell_type": "code",
   "execution_count": 15,
   "metadata": {},
   "outputs": [],
   "source": [
    "import matplotlib.pyplot as plt\n",
    "def show_slices(slices):\n",
    "    \"\"\" Function to display row of image slices \"\"\"\n",
    "    fig, axes = plt.subplots(1, len(slices))\n",
    "    for i, slice in enumerate(slices):\n",
    "      axes[i].imshow(slice.T, cmap=\"gray\", origin=\"lower\")\n",
    "\n",
    "def show_slice(slice):\n",
    "    plt.imshow(slice.T, cmap=\"gray\", origin=\"lower\")\n",
    "    \n",
    "def normalizeImg(x):\n",
    "    # Normalize x\n",
    "    max_val = np.max(x)\n",
    "    min_val = np.min(x)\n",
    "    norm_x = (x-min_val)/(max_val-min_val + 1e-7)\n",
    "    return norm_x"
   ]
  },
  {
   "cell_type": "code",
   "execution_count": 5,
   "metadata": {},
   "outputs": [],
   "source": [
    "## Prepare list of tuples of paths to GT & Predicted Masks ##\n",
    "gt_dir = '../slice_data_side/'\n",
    "pred_dir = '../slice_data_side_pred/'\n",
    "mask_tups = []\n",
    "\n",
    "for _,_,files in os.walk(gt_dir):\n",
    "    for file in files:\n",
    "        # Prepare GT & pred fp\n",
    "        if 'mask' not in file:\n",
    "            continue\n",
    "        pred_file = file.replace('side_mask_', 'side_mask_pred_')\n",
    "        gt_fp = gt_dir + file\n",
    "        pred_fp = pred_dir + pred_file\n",
    "        # Create list of tuples (gt, pred)\n",
    "        mask_tups.append((gt_fp, pred_fp))\n",
    "\n",
    "\n",
    "        \n",
    "        "
   ]
  },
  {
   "cell_type": "code",
   "execution_count": 30,
   "metadata": {},
   "outputs": [
    {
     "name": "stdout",
     "output_type": "stream",
     "text": [
      "3577\n",
      "0\n",
      "1000\n"
     ]
    },
    {
     "name": "stderr",
     "output_type": "stream",
     "text": [
      "/home/julien/ARFF/metrics.py:13: RuntimeWarning: invalid value encountered in double_scalars\n",
      "  (np.sum(inv_mask_true) + np.sum(inv_mask_pred))))\n"
     ]
    },
    {
     "name": "stdout",
     "output_type": "stream",
     "text": [
      "2000\n",
      "3000\n"
     ]
    }
   ],
   "source": [
    "## Compute Dice Scores across alls scans ##\n",
    "import random\n",
    "# Randomly sample from mask_tups\n",
    "sampled_masks = random.sample(mask_tups, len(mask_tups)//22)\n",
    "print(len(sampled_masks))\n",
    "dice_coefs = []\n",
    "for idx, mask_tup in enumerate(sampled_masks):\n",
    "    #if (not os.path.isfile(mask_tup[0]) or not os.path.isfile(mask_tup[1])):\n",
    "    #    print(mask_tup[0], 'or', mask_tup[1], 'doesn\\'t exist?')\n",
    "    #    continue\n",
    "    #print(mask_tup[1])\n",
    "    gt_mask = (nib.load(mask_tup[0])).get_data()\n",
    "    pred_mask = (nib.load(mask_tup[1])).get_data()\n",
    "    dice_coefs.append(dice_coef(gt_mask, pred_mask, threshold = 0.5))\n",
    "    if idx%1000 == 0:\n",
    "        print(idx)\n",
    "    \n",
    "    "
   ]
  },
  {
   "cell_type": "code",
   "execution_count": 37,
   "metadata": {},
   "outputs": [
    {
     "name": "stdout",
     "output_type": "stream",
     "text": [
      "DescribeResult(nobs=3576, minmax=(0.0, 0.989607597204802), mean=0.8603695924711291, variance=0.021903653829475768, skewness=-3.244207536033756, kurtosis=11.838710183373417)\n"
     ]
    }
   ],
   "source": [
    "from scipy import stats\n",
    "dc = np.array(dice_coefs)\n",
    "dc = dc[~np.isnan(dc)]\n",
    "print(stats.describe(dc))\n",
    "\n",
    "# Get best max\n",
    "bm_idx = np.argmax(dc)\n",
    "gt_mask = (sampled_masks[bm_idx])[0]\n",
    "pred_mask = (sampled_masks[bm_idx])[1]\n",
    "gt_mask_img = nib.load(gt_mask).get_data()\n",
    "\n"
   ]
  },
  {
   "cell_type": "code",
   "execution_count": 36,
   "metadata": {},
   "outputs": [
    {
     "data": {
      "image/png": "[encoded data removed]",
      "text/plain": [
       "<matplotlib.figure.Figure at 0x7fe373dc54a8>"
      ]
     },
     "metadata": {},
     "output_type": "display_data"
    }
   ],
   "source": [
    "gt_mask_img = nib.load(gt_mask).get_data()\n",
    "show_slice(gt_mask_img)\n"
   ]
  },
  {
   "cell_type": "code",
   "execution_count": 39,
   "metadata": {},
   "outputs": [
    {
     "data": {
      "text/plain": [
       "DescribeResult(nobs=65536, minmax=(0.0, 1.0), mean=0.8999939, variance=0.09000624, skewness=-2.6665542125701904, kurtosis=5.110511600891456)"
      ]
     },
     "execution_count": 39,
     "metadata": {},
     "output_type": "execute_result"
    },
    {
     "data": {
      "image/png": "[encoded data removed]",
      "text/plain": [
       "<matplotlib.figure.Figure at 0x7fe373c85e10>"
      ]
     },
     "metadata": {},
     "output_type": "display_data"
    }
   ],
   "source": [
    "# Visualize masks\n",
    "pred_mask_img =nib.load(pred_mask).get_data()\n",
    "pred_mask_img[pred_mask_img >= 0.5] = 1.0\n",
    "pred_mask_img[pred_mask_img < 0.5] = 0.0\n",
    "show_slice(pred_mask_img[:, :, 0])\n",
    "stats.describe(pred_mask_img[:,:,0].flatten())"
   ]
  }
 ],
 "metadata": {
  "kernelspec": {
   "display_name": "Python 3",
   "language": "python",
   "name": "python3"
  },
  "language_info": {
   "codemirror_mode": {
    "name": "ipython",
    "version": 3
   },
   "file_extension": ".py",
   "mimetype": "text/x-python",
   "name": "python",
   "nbconvert_exporter": "python",
   "pygments_lexer": "ipython3",
   "version": "3.6.4"
  }
 },
 "nbformat": 4,
 "nbformat_minor": 2
}
