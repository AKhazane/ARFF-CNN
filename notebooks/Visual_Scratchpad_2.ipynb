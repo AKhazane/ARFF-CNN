{
 "cells": [
  {
   "cell_type": "code",
   "execution_count": 42,
   "metadata": {
    "scrolled": false
   },
   "outputs": [
    {
     "name": "stdout",
     "output_type": "stream",
     "text": [
      "(256, 256, 150)\n"
     ]
    },
    {
     "data": {
      "image/png": "[encoded data removed]",
      "text/plain": [
       "<Figure size 432x288 with 1 Axes>"
      ]
     },
     "metadata": {},
     "output_type": "display_data"
    }
   ],
   "source": [
    "from __future__ import division\n",
    "import nibabel as nib\n",
    "import numpy as np\n",
    "import matplotlib.pyplot as plt\n",
    "# Normal\n",
    "# # GT Mask\n",
    "# # Predicted Mask \n",
    "# norm_data = mr_img_normal.get_data()\n",
    "# def_data = mr_img_defaced.get_data()\n",
    "# mask_data = mr_img_pred.get_data()\n",
    "# print(norm_data.shape)\n",
    "# print(def_data.shape)\n",
    "# print(mask_data.shape)\n",
    "# name = 'ICBM_UCLA_1941_MR_SAG_MPRAGE_8_CHANNEL_br_raw_20090810092735719_1_S72160_I152752.nii'\n",
    "# title = '../ICBM/%s' % (name)\n",
    "\n",
    "# norm_img  = nib.load(title)\n",
    "# defaced_img = nib.load(title.replace(\".nii\", \"_defaced.nii\"))\n",
    "# mask_img = title.replace(\".nii\", \"_mask.nii\")\n",
    "# mask_img = mask_img.replace('ICBM/', \"ICBM/masks/\")\n",
    "#IXI414-Guys-0957-T1_mask.nii.gz\n",
    "\n",
    "\n",
    "mask_img = nib.load('../data/IXI533-Guys-1066-T1_mask.nii.gz')\n",
    "\n",
    "# nib.nifti1.Nifti1Header(mask_img)  \n",
    "# print((mask_img))\n",
    "# mask_img = nib.load(\"/home/akhazane/Project/ARFF-CNN/ICBM/masks/ICBM_UTHC_2009_MR_MPRAGE_T1_AX_0.8_mm_TI-808_br_raw_20090619051618871_1_S69046_I146508_mask.nii\") \n",
    "\n",
    "\n",
    "# print(norm_img.shape)\n",
    "mask_img = np.squeeze(mask_img.get_data())\n",
    "print(mask_img.shape)\n",
    "# defaced_img = np.swapaxes(np.squeeze(defaced_img.get_data()), 0, -1)\n",
    "# norm_img = np.swapaxes(np.squeeze(norm_img.get_data()), 0, -1)\n",
    "# print(norm_img.shape)\n",
    "\n",
    "show_slice(mask_img[:, :, 75])\n"
   ]
  },
  {
   "cell_type": "code",
   "execution_count": 1,
   "metadata": {
    "scrolled": true
   },
   "outputs": [
    {
     "name": "stdout",
     "output_type": "stream",
     "text": [
      "IXI057-HH-1342-T1_defaced_pred.nii\n"
     ]
    },
    {
     "ename": "NameError",
     "evalue": "global name 'nib' is not defined",
     "output_type": "error",
     "traceback": [
      "\u001b[0;31m---------------------------------------------------------------------------\u001b[0m",
      "\u001b[0;31mNameError\u001b[0m                                 Traceback (most recent call last)",
      "\u001b[0;32m<ipython-input-1-5f491eec8768>\u001b[0m in \u001b[0;36m<module>\u001b[0;34m()\u001b[0m\n\u001b[1;32m     30\u001b[0m         \u001b[0;32mreturn\u001b[0m\u001b[0;34m\u001b[0m\u001b[0m\n\u001b[1;32m     31\u001b[0m \u001b[0;34m\u001b[0m\u001b[0m\n\u001b[0;32m---> 32\u001b[0;31m \u001b[0mmask_images\u001b[0m\u001b[0;34m(\u001b[0m\u001b[0mfiles\u001b[0m\u001b[0;34m)\u001b[0m\u001b[0;34m\u001b[0m\u001b[0m\n\u001b[0m",
      "\u001b[0;32m<ipython-input-1-5f491eec8768>\u001b[0m in \u001b[0;36mmask_images\u001b[0;34m(files)\u001b[0m\n\u001b[1;32m     10\u001b[0m     \u001b[0;32mfor\u001b[0m \u001b[0mindex\u001b[0m\u001b[0;34m,\u001b[0m\u001b[0mfilez\u001b[0m \u001b[0;32min\u001b[0m \u001b[0menumerate\u001b[0m\u001b[0;34m(\u001b[0m\u001b[0mfiles\u001b[0m\u001b[0;34m[\u001b[0m\u001b[0;36m17\u001b[0m\u001b[0;34m:\u001b[0m\u001b[0;34m]\u001b[0m\u001b[0;34m)\u001b[0m\u001b[0;34m:\u001b[0m\u001b[0;34m\u001b[0m\u001b[0m\n\u001b[1;32m     11\u001b[0m         \u001b[0;32mprint\u001b[0m\u001b[0;34m(\u001b[0m\u001b[0mfilez\u001b[0m\u001b[0;34m)\u001b[0m\u001b[0;34m\u001b[0m\u001b[0m\n\u001b[0;32m---> 12\u001b[0;31m         \u001b[0mpred_mask\u001b[0m \u001b[0;34m=\u001b[0m \u001b[0mnib\u001b[0m\u001b[0;34m.\u001b[0m\u001b[0mload\u001b[0m\u001b[0;34m(\u001b[0m\u001b[0;34m\"../test_predictions2/\"\u001b[0m \u001b[0;34m+\u001b[0m \u001b[0mfilez\u001b[0m\u001b[0;34m)\u001b[0m\u001b[0;34m\u001b[0m\u001b[0m\n\u001b[0m\u001b[1;32m     13\u001b[0m         \u001b[0mnorm_img\u001b[0m \u001b[0;34m=\u001b[0m \u001b[0mnib\u001b[0m\u001b[0;34m.\u001b[0m\u001b[0mload\u001b[0m\u001b[0;34m(\u001b[0m\u001b[0;34m\"../test_set_mri/\"\u001b[0m \u001b[0;34m+\u001b[0m \u001b[0mfilez\u001b[0m\u001b[0;34m.\u001b[0m\u001b[0mreplace\u001b[0m\u001b[0;34m(\u001b[0m\u001b[0;34m'_defaced_pred'\u001b[0m\u001b[0;34m,\u001b[0m \u001b[0;34m''\u001b[0m\u001b[0;34m)\u001b[0m\u001b[0;34m)\u001b[0m\u001b[0;34m\u001b[0m\u001b[0m\n\u001b[1;32m     14\u001b[0m         \u001b[0mdef_img\u001b[0m \u001b[0;34m=\u001b[0m \u001b[0mnib\u001b[0m\u001b[0;34m.\u001b[0m\u001b[0mload\u001b[0m\u001b[0;34m(\u001b[0m\u001b[0;34m\"../test_set_mri/\"\u001b[0m \u001b[0;34m+\u001b[0m \u001b[0mfilez\u001b[0m\u001b[0;34m.\u001b[0m\u001b[0mreplace\u001b[0m\u001b[0;34m(\u001b[0m\u001b[0;34m'_defaced_pred'\u001b[0m\u001b[0;34m,\u001b[0m \u001b[0;34m'_defaced'\u001b[0m\u001b[0;34m)\u001b[0m\u001b[0;34m)\u001b[0m\u001b[0;34m\u001b[0m\u001b[0m\n",
      "\u001b[0;31mNameError\u001b[0m: global name 'nib' is not defined"
     ]
    }
   ],
   "source": [
    "import os\n",
    "import matplotlib.gridspec as gridspec\n",
    "\n",
    "files = os.listdir('../test_predictions2')\n",
    "def mask_images(files):\n",
    "#     slices = [] \n",
    "    dices = [] \n",
    "    precisions = []\n",
    "    recalls = [] \n",
    "    for index,filez in enumerate(files[17:]):\n",
    "        print(filez)\n",
    "        pred_mask = nib.load(\"../test_predictions2/\" + filez) \n",
    "        norm_img = nib.load(\"../test_set_mri/\" + filez.replace('_defaced_pred', ''))\n",
    "        def_img = nib.load(\"../test_set_mri/\" + filez.replace('_defaced_pred', '_defaced'))\n",
    "\n",
    "\n",
    "        def_img = resize_image(np.swapaxes(def_img.get_data(), 0, -1))\n",
    "        norm_image = resize_image(np.swapaxes(norm_img.get_data(), 0, -1))\n",
    "\n",
    "        gt_mask = np.swapaxes(getMaskData(norm_image, def_img), 0, -1)\n",
    "        norm_image = np.swapaxes(norm_image, 0, -1) \n",
    "\n",
    "        norm_img = np.swapaxes(resize_image(np.swapaxes(norm_img.get_data(), 0, -1)), 0, -1)\n",
    "        pred_mask = np.swapaxes(np.squeeze(pred_mask.get_data()), 0, -1)\n",
    "        low_indices = pred_mask < 0.5\n",
    "        high_indices = pred_mask >= 0.5\n",
    "        pred_mask[low_indices] = 0\n",
    "        pred_mask[high_indices] = 1\n",
    "        show_slice(pred_mask[:, :, 75])\n",
    "        return\n",
    "        \n",
    "mask_images(files)"
   ]
  },
  {
   "cell_type": "code",
   "execution_count": 19,
   "metadata": {},
   "outputs": [
    {
     "name": "stdout",
     "output_type": "stream",
     "text": [
      "IXI395-IOP-0969-T1_defaced_pred.nii\n",
      "(-16109.288596689701, 0.10048235207796097)\n"
     ]
    },
    {
     "data": {
      "image/png": "[encoded data removed]",
      "text/plain": [
       "<Figure size 432x288 with 1 Axes>"
      ]
     },
     "metadata": {},
     "output_type": "display_data"
    }
   ],
   "source": [
    "mask_images(files[5:10]) "
   ]
  },
  {
   "cell_type": "code",
   "execution_count": null,
   "metadata": {},
   "outputs": [],
   "source": [
    "mask_images(files[10:15]) "
   ]
  },
  {
   "cell_type": "code",
   "execution_count": null,
   "metadata": {},
   "outputs": [],
   "source": [
    "mask_images(files[15:20]) "
   ]
  },
  {
   "cell_type": "code",
   "execution_count": null,
   "metadata": {},
   "outputs": [],
   "source": [
    "mask_images(files[25:30]) "
   ]
  },
  {
   "cell_type": "code",
   "execution_count": null,
   "metadata": {},
   "outputs": [],
   "source": [
    "mask_images(files[30:35]) "
   ]
  },
  {
   "cell_type": "code",
   "execution_count": null,
   "metadata": {},
   "outputs": [],
   "source": [
    "mask_images(files[35:40]) "
   ]
  },
  {
   "cell_type": "code",
   "execution_count": null,
   "metadata": {},
   "outputs": [],
   "source": [
    "mask_images(files[40:45]) "
   ]
  },
  {
   "cell_type": "code",
   "execution_count": null,
   "metadata": {},
   "outputs": [],
   "source": [
    "mask_images(files[45:50]) "
   ]
  },
  {
   "cell_type": "code",
   "execution_count": 172,
   "metadata": {},
   "outputs": [
    {
     "name": "stdout",
     "output_type": "stream",
     "text": [
      "IXI204-HH-1651-T1_defaced.nii.gz\n",
      "IXI621-Guys-1100-T1_defaced.nii.gz\n",
      "IXI292-IOP-0877-T1_defaced.nii.gz\n",
      "IXI308-Guys-0884-T1_defaced.nii.gz\n",
      "IXI662-Guys-1120-T1_defaced.nii.gz\n",
      "IXI336-Guys-0904-T1_defaced.nii.gz\n",
      "IXI417-Guys-0939-T1_defaced.nii.gz\n"
     ]
    }
   ],
   "source": [
    "import os\n",
    "dire = 'data'\n",
    "masks = os.listdir('../MRI_Images') \n",
    "norms = os.listdir('../data') \n",
    "\n",
    "sets = 508\n",
    "shitty_masks = [449, 32, 292, 508, 273, 545, 579] \n",
    "\n",
    "for file in shitty_masks:\n",
    "    print(masks[file]) \n",
    "    \n",
    "    \n",
    "# def test():\n",
    "#     for index, file in enumerate(masks):\n",
    "#         if sets >= 0:\n",
    "#             file = masks[sets]\n",
    "#             norm_filename = file.replace('_defaced', '') \n",
    "#             def_img = nib.load('../MRI_Images/' + file).get_data() \n",
    "#             norm_img = nib.load('../data/' + norm_filename).get_data() \n",
    "#             subtraction_img = norm_img - def_img \n",
    "#             print(sets, np.where(subtraction_img[:, :, :75] < 0)[0][:10])\n",
    "#             print(sets, np.where(subtraction_img[:, :, :75] < 0)[1][:10])\n",
    "#             print(sets, np.where(subtraction_img[:, :, :75] < 0)[2][:10])\n",
    "\n",
    "#             show_slice(def_img[:, :, 75]) \n",
    "#             return\n",
    "\n",
    "#         norm_filename = file.replace('_defaced', '') \n",
    "#         def_img = nib.load('../MRI_Images/' + file).get_data() \n",
    "#         norm_img = nib.load('../data/' + norm_filename).get_data() \n",
    "#         subtraction_img = norm_img - def_img \n",
    "#         ranges = np.where(subtraction_img[:, :, :75] < 0)[1][:10]\n",
    "#         if len(ranges[ranges < 50]):\n",
    "#             print(index, np.where(subtraction_img[:, :, :75] < 0)[0][:10])\n",
    "#             print(index, np.where(subtraction_img[:, :, :75] < 0)[1][:10])\n",
    "#             print(index, np.where(subtraction_img[:, :, :75] < 0)[2][:10])\n",
    "#             print('-------------------------------')\n",
    "# #         print(ranges, ranges[ranges >= 30])\n",
    "# #         if len(ranges[ranges >= 30]):\n",
    "# #             print(index, np.where(subtraction_img[:, :, :75] < 0)[0][:10])\n",
    "\n",
    "   \n",
    "# test() \n",
    "\n",
    "    \n"
   ]
  },
  {
   "cell_type": "code",
   "execution_count": 48,
   "metadata": {
    "scrolled": true
   },
   "outputs": [
    {
     "name": "stdout",
     "output_type": "stream",
     "text": [
      "(0.6, 0.7210933572846073)\n",
      "(0.7, 0.7199414749821362)\n",
      "(0.8, 0.7012025992435774)\n",
      "('BEST', 0.7012025992435774, 0.8)\n"
     ]
    }
   ],
   "source": [
    "import os \n",
    "def validation_search():\n",
    "    files = os.listdir('../test_predictions2')\n",
    "    thresholds = [0.60, 0.70, 0.80]\n",
    "    best_threshold_so_far = None\n",
    "    best_threshold_value_so_far = None\n",
    "    for threshold in thresholds:\n",
    "        dices = [] \n",
    "        for filez in files[5:]:\n",
    "            pred_mask = nib.load(\"../test_predictions2/\" + filez)\n",
    "#             norm_img = nib.load(\"../validation_set/\" + filez.replace('_defaced_pred', '')).get_data() \n",
    "            def_img = nib.load(\"../data/\" + filez.replace('_defaced_pred.nii', '_mask.nii.gz')).get_data()\n",
    "\n",
    "            \n",
    "            def_img = resize_image(np.swapaxes(def_img, 0, -1))\n",
    "            def_img = np.swapaxes(def_img, 0, -1) \n",
    "        \n",
    "        \n",
    "\n",
    "\n",
    "            pred_mask = pred_mask.get_data()\n",
    "\n",
    "            pred_mask = np.squeeze(pred_mask)\n",
    "            pred_mask = np.swapaxes(pred_mask, 0, -1) \n",
    "\n",
    "            \n",
    "#             pred_mask[pred_mask < 0.5] = 0 \n",
    "#             pred_mask[pred_mask >= 0.5] = 1\n",
    "\n",
    "\n",
    "#             print(pred_mask.shape, def_img.shape)\n",
    "            dc = dice_coef(def_img, pred_mask, threshold)\n",
    "\n",
    "\n",
    "            dices.append(dc)\n",
    "        avg_dice = np.mean(dices)\n",
    "        print(threshold, avg_dice) \n",
    "#         print(avg_dice)\n",
    "        if best_threshold_value_so_far and avg_dice < best_threshold_value_so_far:\n",
    "            best_threshold_value_so_far = avg_dice\n",
    "            best_threshold_so_far = threshold\n",
    "        elif not best_threshold_value_so_far:\n",
    "            best_threshold_value_so_far = avg_dice\n",
    "            best_threshold_so_far = threshold\n",
    "    #     print(alternative_mask.shape, norm_data.shape)\n",
    "    # # alternative_mask[alternative_mask < 0] = 0 \n",
    "    # # alternative_mask[alternative_mask > 0] = 1\n",
    "\n",
    "\n",
    "\n",
    "    print('BEST', best_threshold_value_so_far, best_threshold_so_far)\n",
    "validation_search()"
   ]
  },
  {
   "cell_type": "code",
   "execution_count": null,
   "metadata": {},
   "outputs": [],
   "source": [
    "import os\n",
    "import sys\n",
    "import numpy as np\n",
    "module_path = os.path.abspath(os.path.join('..'))\n",
    "if module_path not in sys.path:\n",
    "    sys.path.append(module_path)\n",
    "from metrics import dice_coefficient"
   ]
  },
  {
   "cell_type": "code",
   "execution_count": 7,
   "metadata": {},
   "outputs": [],
   "source": [
    "from sklearn.metrics import precision_score\n",
    "from sklearn.metrics import recall_score\n",
    "\n",
    "def rec_score(mask_true, mask_pred, threshold = 0.5):\n",
    "    # Use threshold to create a mask of 1s and 0s \n",
    "    low_indices = mask_pred < threshold \n",
    "    high_indices = mask_pred >= threshold\n",
    "    mask_pred[low_indices] = 0\n",
    "    mask_pred[high_indices] = 1\n",
    "#     mask_pred[mask_pred >= threshold] = 1.0\n",
    "#     mask_pred[mask_pred < threshold] = 0.0\n",
    "    \n",
    "    # Invert the values so mask is 1 else 0\n",
    "    inv_mask_true = 1.0-mask_true\n",
    "    inv_mask_pred = 1.0-mask_pred\n",
    "    mask_points = np.sum(inv_mask_true == 1.0)\n",
    "    #print(np.unique(inv_mask_pred))\n",
    "    #gt = list(inv_mask_true)\n",
    "    # Compute Dice Coeff\n",
    "    rec = recall_score((inv_mask_true==1.0).flatten(), (inv_mask_pred==1.0).flatten())\n",
    "    return rec\n",
    "\n",
    "\n",
    "''' Precision Score '''\n",
    "def prec_score(mask_true, mask_pred, threshold = 0.5):\n",
    "    # Use threshold to create a mask of 1s and 0s \n",
    "    low_indices = mask_pred < threshold \n",
    "    high_indices = mask_pred >= threshold\n",
    "    mask_pred[low_indices] = 0\n",
    "    mask_pred[high_indices] = 1\n",
    "    # Invert the values so mask is 1 else 0\n",
    "    inv_mask_true = 1.0-mask_true\n",
    "    inv_mask_pred = 1.0-mask_pred\n",
    "    mask_points = np.sum(inv_mask_true == 1.0)\n",
    "    #print(np.unique(inv_mask_pred))\n",
    "    #gt = list(inv_mask_true)\n",
    "    # Compute Dice Coeff\n",
    "    prec = precision_score((inv_mask_true==1.0).flatten(), (inv_mask_pred==1.0).flatten())\n",
    "    return prec\n",
    "\n",
    "def dice_coef(mask_true, mask_pred, threshold = 0.5):\n",
    "    # Use threshold to create a mask of 1s and 0s\n",
    "    low_indices = mask_pred < threshold\n",
    "    high_indices = mask_pred >= threshold\n",
    "    mask_pred[low_indices] = 0\n",
    "    mask_pred[high_indices] = 1\n",
    "    # Invert the values so mask is 1 else 0\n",
    "    inv_mask_true = 1.0-mask_true\n",
    "    inv_mask_pred = 1.0-mask_pred\n",
    "    # Compute Dice Coeff\n",
    "    d = ((2.0 * np.sum( inv_mask_pred[inv_mask_true == 1.0]) /\n",
    "          (np.sum(inv_mask_true) + np.sum(inv_mask_pred) + 1e-9)))\n",
    "    return d  \n",
    "\n",
    "\n",
    "def resize_image(image):\n",
    "    new_dims = tuple((image.shape[0] + (160 - image.shape[0]), image.shape[1], image.shape[2]))\n",
    "    new_image = np.zeros(new_dims)\n",
    "    new_image[:image.shape[0], :image.shape[1], :image.shape[2]] = image \n",
    "    return new_image\n",
    "\n",
    "def normalize_img(image):\n",
    "    means = np.mean(image)\n",
    "    mins = np.min(image)\n",
    "    maxs = np.max(image)\n",
    "    norm_img = (image - means) / (maxs - mins + 1e-7)\n",
    "    return norm_img \n",
    "\n",
    "def normalize_img_2(image):\n",
    "    mins = np.min(image)\n",
    "    maxs = np.max(image)\n",
    "    return (image - mins) / (maxs - mins + 1e-7) \n",
    "    \n",
    "\n",
    "def denormalize_img(pred_img, maxs, mins, means):\n",
    "    return (pred_img * (maxs - mins + 1e-7)) + means\n",
    "\n",
    "def getMaskData(normal, defaced):\n",
    "    normalized_norm = ((normal - np.min(defaced))/\n",
    "                      (np.max(normal)-np.min(defaced)))\n",
    "    delta = defaced - normalized_norm\n",
    "    delta[delta >= 0] = 1.0\n",
    "    delta[delta < 0] = 0.0\n",
    "    return delta"
   ]
  },
  {
   "cell_type": "code",
   "execution_count": 8,
   "metadata": {},
   "outputs": [
    {
     "ename": "NameError",
     "evalue": "name 'def_data' is not defined",
     "output_type": "error",
     "traceback": [
      "\u001b[0;31m---------------------------------------------------------------------------\u001b[0m",
      "\u001b[0;31mNameError\u001b[0m                                 Traceback (most recent call last)",
      "\u001b[0;32m<ipython-input-8-2c81a9ef6324>\u001b[0m in \u001b[0;36m<module>\u001b[0;34m()\u001b[0m\n\u001b[1;32m      1\u001b[0m \u001b[0;31m# Compute dice coef.\u001b[0m\u001b[0;34m\u001b[0m\u001b[0;34m\u001b[0m\u001b[0m\n\u001b[0;32m----> 2\u001b[0;31m \u001b[0mdef_data\u001b[0m \u001b[0;34m=\u001b[0m \u001b[0mnp\u001b[0m\u001b[0;34m.\u001b[0m\u001b[0mswapaxes\u001b[0m\u001b[0;34m(\u001b[0m\u001b[0mdef_data\u001b[0m\u001b[0;34m,\u001b[0m \u001b[0;36m0\u001b[0m\u001b[0;34m,\u001b[0m \u001b[0;34m-\u001b[0m\u001b[0;36m1\u001b[0m\u001b[0;34m)\u001b[0m\u001b[0;34m\u001b[0m\u001b[0m\n\u001b[0m\u001b[1;32m      3\u001b[0m \u001b[0mmask_data\u001b[0m \u001b[0;34m=\u001b[0m \u001b[0mnp\u001b[0m\u001b[0;34m.\u001b[0m\u001b[0msqueeze\u001b[0m\u001b[0;34m(\u001b[0m\u001b[0mmask_data\u001b[0m\u001b[0;34m)\u001b[0m\u001b[0;34m\u001b[0m\u001b[0m\n\u001b[1;32m      4\u001b[0m \u001b[0mdef_data\u001b[0m \u001b[0;34m=\u001b[0m \u001b[0mresize_image\u001b[0m\u001b[0;34m(\u001b[0m\u001b[0mdef_data\u001b[0m\u001b[0;34m)\u001b[0m\u001b[0;34m\u001b[0m\u001b[0m\n\u001b[1;32m      5\u001b[0m \u001b[0;31m# mask_data = normalize_img(mask_data)\u001b[0m\u001b[0;34m\u001b[0m\u001b[0;34m\u001b[0m\u001b[0m\n",
      "\u001b[0;31mNameError\u001b[0m: name 'def_data' is not defined"
     ]
    }
   ],
   "source": [
    "# Compute dice coef. \n",
    "def_data = np.swapaxes(def_data, 0, -1)\n",
    "mask_data = np.squeeze(mask_data)\n",
    "def_data = resize_image(def_data) \n",
    "# mask_data = normalize_img(mask_data)\n",
    "def_data = normalize_img(def_data)\n",
    "print(np.min(def_data), np.max(def_data)) \n",
    "print(np.min(mask_data), np.max(mask_data)) \n",
    "# print(mask_data.shape)\n",
    "# print(def_data.shape)\n",
    "# alternative_mask = mask_data.copy() \n",
    "\n",
    "# # print(np.percentile(mask_data, 70)) \n",
    "print('M S E : ', ((mask_data - def_data) ** 2).mean())"
   ]
  },
  {
   "cell_type": "code",
   "execution_count": 9,
   "metadata": {},
   "outputs": [],
   "source": [
    "import matplotlib.pyplot as plt\n",
    "def show_slices(slices):\n",
    "    \"\"\" Function to display row of image slices \"\"\"\n",
    "    plt.axis('off')\n",
    "    fig, axes = plt.subplots(len(slices), 2, figsize=(200,200))\n",
    "#     fig.tight_layout() # Or equivalently,  \"plt.tight_layout()\"\n",
    "    gs1 = gridspec.GridSpec(200,200) \n",
    "    gs1.update(wspace=1)\n",
    "    axes_index = 0\n",
    "    for i, slice in enumerate(slices):\n",
    "        axes[axes_index][0].imshow(slice[0][1], cmap=\"gray\", origin=\"lower\")\n",
    "        axes[axes_index][0].set_title(slice[0][0], {'fontsize': 120})\n",
    "        axes[axes_index][1].imshow(slice[1][1].T, cmap=\"gray\", origin=\"lower\")\n",
    "        axes[axes_index][1].set_title(slice[1][0], {'fontsize': 120}) \n",
    "        axes_index += 1\n",
    "\n",
    "\n",
    "    \n",
    "\n",
    "def show_slice(slice):\n",
    "    plt.axis('off')\n",
    "    plt.imshow(slice.T, cmap=\"gray\", origin=\"lower\")\n",
    "    \n",
    "def normalizeImg(x):\n",
    "    # Normalize x\n",
    "    mean_val = np.mean(x) \n",
    "    max_val = np.max(x)\n",
    "    min_val = np.min(x)\n",
    "    norm_x = (x-mean_val)/(max_val-min_val + 1e-7)\n",
    "    return norm_x\n"
   ]
  },
  {
   "cell_type": "code",
   "execution_count": null,
   "metadata": {},
   "outputs": [],
   "source": [
    "print(np.logspace(-10, -1, num=20))\n",
    "\n",
    "print(alternative_mask.shape) \n",
    "norm_output = np.swapaxes(resize_image(np.swapaxes(norm_data, 0, -1)), 0, -1) \n",
    "defaced_output = np.swapaxes(alternative_mask, 0, -1) \n",
    "defaced_output = alternative_mask * norm_output \n",
    "\n",
    "def_data = np.swapaxes(def_data, 0, -1) \n",
    "def_data = np.swapaxes(resize_image(def_data), 0, -1)\n",
    "print(defaced_output.shape, def_data.shape)\n",
    "\n",
    "\n",
    "show_slice(defaced_output[:, :, 75])\n",
    "\n",
    "defaced_output = normalize_img(defaced_output)\n",
    "def_data = normalize_img(def_data)\n",
    "\n",
    "print('M S E : ', ((defaced_output - def_data) ** 2).mean())"
   ]
  },
  {
   "cell_type": "code",
   "execution_count": null,
   "metadata": {
    "scrolled": false
   },
   "outputs": [],
   "source": [
    "#norm_arr = [#norm_data2[127, :, :],\n",
    "            #norm_data2[:, 127, :],\n",
    "            #norm_data2[:, :, 74]]\n",
    "norm = norm_data\n",
    "show_slice(norm[:, :, 75])"
   ]
  },
  {
   "cell_type": "code",
   "execution_count": null,
   "metadata": {},
   "outputs": [],
   "source": [
    "show_slice(def_data[:, :, 75])\n",
    "print(np.max(mask_data))\n",
    "print(np.min(mask_data))\n",
    "print(len(np.where(mask_data == 1)[0])/np.prod(mask_data.shape))"
   ]
  },
  {
   "cell_type": "code",
   "execution_count": null,
   "metadata": {
    "scrolled": false
   },
   "outputs": [],
   "source": [
    "# Predicted\n",
    "print(mask_data.shape)\n",
    "mask_data = np.squeeze(mask_data)\n",
    "mask_data = np.swapaxes(mask_data, 0, -1)\n",
    "show_slice(mask_data[:, :, 75])\n",
    "print(np.min(mask_data))\n",
    "print(np.max(mask_data))\n",
    "print(np.median(mask_data))\n",
    "# print(np.percentile(pmask_data, 75))\n",
    "# print(len(np.where(pmask_data == 1)[0]))"
   ]
  },
  {
   "cell_type": "code",
   "execution_count": null,
   "metadata": {},
   "outputs": [],
   "source": [
    "norm = norm_data\n",
    "show_slice(norm)"
   ]
  },
  {
   "cell_type": "code",
   "execution_count": null,
   "metadata": {},
   "outputs": [],
   "source": [
    "# Produce masked input via predicted mask\n",
    "pred_applied_mask = np.multiply(normalizeImg(pmask_data[:, :, 0]), norm)\n",
    "\n",
    "\n",
    "show_slice(pred_applied_mask)"
   ]
  },
  {
   "cell_type": "code",
   "execution_count": null,
   "metadata": {},
   "outputs": [],
   "source": [
    "applied_mask = np.multiply(mask_data, norm)\n",
    "show_slice(applied_mask)\n"
   ]
  },
  {
   "cell_type": "code",
   "execution_count": null,
   "metadata": {},
   "outputs": [],
   "source": [
    "# Defaced\n",
    "show_slice(def_data[:, :, 0])"
   ]
  }
 ],
 "metadata": {
  "kernelspec": {
   "display_name": "Python 2",
   "language": "python",
   "name": "python2"
  },
  "language_info": {
   "codemirror_mode": {
    "name": "ipython",
    "version": 2
   },
   "file_extension": ".py",
   "mimetype": "text/x-python",
   "name": "python",
   "nbconvert_exporter": "python",
   "pygments_lexer": "ipython2",
   "version": "2.7.12"
  }
 },
 "nbformat": 4,
 "nbformat_minor": 2
}
